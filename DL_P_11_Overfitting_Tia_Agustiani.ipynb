{
  "nbformat": 4,
  "nbformat_minor": 0,
  "metadata": {
    "colab": {
      "provenance": []
    },
    "kernelspec": {
      "name": "python3",
      "display_name": "Python 3"
    },
    "language_info": {
      "name": "python"
    }
  },
  "cells": [
    {
      "cell_type": "markdown",
      "source": [
        "##**Overfitting**\n",
        "\n"
      ],
      "metadata": {
        "id": "V1jcN2isWRxA"
      }
    },
    {
      "cell_type": "markdown",
      "source": [
        "definisi: sebuah fenomena dimana model yang digunakan terlalu cocok atau sesuai dengan data training sehingga kehilangan kemampuan untuk melakukandeteksi pada data baru (data testing)<br>\n",
        "<br>\n",
        "\n",
        "contoh: ketika hasil training bagus, tapi hasil testingnya buruk"
      ],
      "metadata": {
        "id": "HwVEZJBNV_li"
      }
    },
    {
      "cell_type": "markdown",
      "source": [
        "Beberapa karakteristik utama terjadinya overfitting: <br>\n",
        "1. Performanya tinggi pada training tetapi rendah di testing\n",
        "2. Model yang dinuat terlalu rumit\n"
      ],
      "metadata": {
        "id": "cOc5iuXeWFVf"
      }
    },
    {
      "cell_type": "markdown",
      "source": [
        "Penyebab Overfitting: <br>\n",
        "1. Data training terlalu sedikit\n",
        "2. Datanya tidak beragam\n",
        "3. Model terlalu kompleks\n",
        "4. Proses training terlalu lama\n"
      ],
      "metadata": {
        "id": "c9brZqOcWKAo"
      }
    },
    {
      "cell_type": "markdown",
      "source": [
        "Cara mengatasi overfitting: <br>\n",
        "1. Sediakan data yang banyak\n",
        "2. Menggunakan Dropout\n",
        "3. Cross Validation"
      ],
      "metadata": {
        "id": "UiWq41yqWMcB"
      }
    },
    {
      "cell_type": "code",
      "execution_count": 85,
      "metadata": {
        "id": "84ucAPEaEUk8"
      },
      "outputs": [],
      "source": [
        "import matplotlib.pyplot as plt\n",
        "from tensorflow.keras.datasets import fashion_mnist\n",
        "\n",
        "(train_images, train_labels), (test_images, test_labels) = fashion_mnist.load_data()"
      ]
    },
    {
      "cell_type": "code",
      "source": [
        "print(\"Ukuran Citra Train\",train_images.shape)\n",
        "print(\"Ukuran Label Train\",train_labels.shape)\n",
        "\n",
        "print(\"Ukuran Citra Test\",test_images.shape)\n",
        "print(\"Ukuran Label Test\",test_labels.shape)"
      ],
      "metadata": {
        "colab": {
          "base_uri": "https://localhost:8080/"
        },
        "id": "TvVI9x9aF0W9",
        "outputId": "16ad563f-e41c-477e-c219-aeaa326768b4"
      },
      "execution_count": 86,
      "outputs": [
        {
          "output_type": "stream",
          "name": "stdout",
          "text": [
            "Ukuran Citra Train (60000, 28, 28)\n",
            "Ukuran Label Train (60000,)\n",
            "Ukuran Citra Test (10000, 28, 28)\n",
            "Ukuran Label Test (10000,)\n"
          ]
        }
      ]
    },
    {
      "cell_type": "code",
      "source": [
        "print(set(train_labels))"
      ],
      "metadata": {
        "colab": {
          "base_uri": "https://localhost:8080/"
        },
        "id": "djwe1TZFGBLM",
        "outputId": "d8af188b-5351-4021-f53d-de506f9ff3a1"
      },
      "execution_count": 87,
      "outputs": [
        {
          "output_type": "stream",
          "name": "stdout",
          "text": [
            "{0, 1, 2, 3, 4, 5, 6, 7, 8, 9}\n"
          ]
        }
      ]
    },
    {
      "cell_type": "code",
      "source": [
        "train_images = train_images.reshape((60000,28*28))\n",
        "train_images = train_images.astype(\"float32\") / 255\n",
        "\n",
        "test_images = test_images.reshape((10000,28*28))\n",
        "test_images = test_images.astype(\"float32\") / 255"
      ],
      "metadata": {
        "id": "uHtRUQdzGHfP"
      },
      "execution_count": 88,
      "outputs": []
    },
    {
      "cell_type": "code",
      "source": [
        "#Arsitektur Modelnya\n",
        "\n",
        "import tensorflow as tf\n",
        "import numpy as np\n",
        "\n",
        "model = tf.keras.Sequential([\n",
        "    tf.keras.layers.Dense(512, activation = 'relu'),\n",
        "    tf.keras.layers.Dense(10, activation = 'sigmoid')\n",
        "])"
      ],
      "metadata": {
        "id": "Cwh_uurJGHj-"
      },
      "execution_count": 89,
      "outputs": []
    },
    {
      "cell_type": "code",
      "source": [
        "model.compile(optimizer ='rmsprop', loss='sparse_categorical_crossentropy', metrics=['accuracy'])"
      ],
      "metadata": {
        "id": "96H8zvLoGM3y"
      },
      "execution_count": 90,
      "outputs": []
    },
    {
      "cell_type": "code",
      "source": [
        "sampel_train_images = train_images[:100]\n",
        "sampel_train_labels = train_labels[:100]"
      ],
      "metadata": {
        "id": "vwzZvqlQG1se"
      },
      "execution_count": 94,
      "outputs": []
    },
    {
      "cell_type": "code",
      "source": [
        "sampel_train_images.shape"
      ],
      "metadata": {
        "colab": {
          "base_uri": "https://localhost:8080/"
        },
        "id": "zhFa1Bb2HOpX",
        "outputId": "a5562947-6ea3-4fdd-f42a-8aae269a3bd0"
      },
      "execution_count": 95,
      "outputs": [
        {
          "output_type": "execute_result",
          "data": {
            "text/plain": [
              "(100, 784)"
            ]
          },
          "metadata": {},
          "execution_count": 95
        }
      ]
    },
    {
      "cell_type": "code",
      "source": [
        "model.fit(sampel_train_images, sampel_train_labels, epochs=10, batch_size=128)"
      ],
      "metadata": {
        "colab": {
          "base_uri": "https://localhost:8080/"
        },
        "id": "JC9wj6ocGPX6",
        "outputId": "fe2351ed-13b3-46d4-8b1b-3cf5679b2a41"
      },
      "execution_count": 96,
      "outputs": [
        {
          "output_type": "stream",
          "name": "stdout",
          "text": [
            "Epoch 1/10\n",
            "1/1 [==============================] - 0s 281ms/step - loss: 2.4360 - accuracy: 0.0000e+00\n",
            "Epoch 2/10\n",
            "1/1 [==============================] - 0s 20ms/step - loss: 1.8686 - accuracy: 0.0000e+00\n",
            "Epoch 3/10\n",
            "1/1 [==============================] - 0s 19ms/step - loss: 2.4168 - accuracy: 0.3700\n",
            "Epoch 4/10\n",
            "1/1 [==============================] - 0s 19ms/step - loss: 1.5326 - accuracy: 0.0000e+00\n",
            "Epoch 5/10\n",
            "1/1 [==============================] - 0s 18ms/step - loss: 1.2673 - accuracy: 0.0900\n",
            "Epoch 6/10\n",
            "1/1 [==============================] - 0s 19ms/step - loss: 1.0296 - accuracy: 0.1300\n",
            "Epoch 7/10\n",
            "1/1 [==============================] - 0s 18ms/step - loss: 0.8157 - accuracy: 0.1600\n",
            "Epoch 8/10\n",
            "1/1 [==============================] - 0s 17ms/step - loss: 0.7288 - accuracy: 0.1000\n",
            "Epoch 9/10\n",
            "1/1 [==============================] - 0s 17ms/step - loss: 0.6989 - accuracy: 0.1600\n",
            "Epoch 10/10\n",
            "1/1 [==============================] - 0s 17ms/step - loss: 0.6064 - accuracy: 0.0900\n"
          ]
        },
        {
          "output_type": "execute_result",
          "data": {
            "text/plain": [
              "<keras.src.callbacks.History at 0x7f33b3b06650>"
            ]
          },
          "metadata": {},
          "execution_count": 96
        }
      ]
    },
    {
      "cell_type": "code",
      "source": [
        "prediksi = model(test_images)\n",
        "prediksi = prediksi.numpy() # =>supaya hasilnya array\n",
        "prediksi_label = np.argmax(prediksi,axis=1)\n",
        "prediksi_betul = prediksi_label == test_labels\n",
        "print(f\"Akurasi hasil data test :{prediksi_betul.mean():.2f}\")\n"
      ],
      "metadata": {
        "colab": {
          "base_uri": "https://localhost:8080/"
        },
        "id": "-i9-u5eHGhqj",
        "outputId": "58ade248-d9f2-4402-9de3-2fc4dac7b749"
      },
      "execution_count": 97,
      "outputs": [
        {
          "output_type": "stream",
          "name": "stdout",
          "text": [
            "Akurasi hasil data test :0.64\n"
          ]
        }
      ]
    },
    {
      "cell_type": "markdown",
      "source": [
        "##Pembuatan Model lebih Deep"
      ],
      "metadata": {
        "id": "z_OLHZJMPf6f"
      }
    },
    {
      "cell_type": "code",
      "source": [
        "#Arsitektur Modelnya\n",
        "\n",
        "import tensorflow as tf\n",
        "import numpy as np\n",
        "\n",
        "model_kedua = tf.keras.Sequential([\n",
        "    tf.keras.layers.Dense(512, activation = 'relu'),\n",
        "    tf.keras.layers.Dropout(0,5),\n",
        "    tf.keras.layers.Dense(256, activation = 'relu'),\n",
        "    tf.keras.layers.Dropout(0,5),\n",
        "    tf.keras.layers.Dense(128, activation = 'relu'),\n",
        "    tf.keras.layers.Dense(64, activation = 'relu'),\n",
        "    tf.keras.layers.Dense(32, activation = 'relu'),\n",
        "    tf.keras.layers.Dense(10, activation = 'sigmoid')\n",
        "])"
      ],
      "metadata": {
        "id": "MkqGxGqxLCka"
      },
      "execution_count": 98,
      "outputs": []
    },
    {
      "cell_type": "code",
      "source": [
        "model_kedua.compile(optimizer ='rmsprop', loss='sparse_categorical_crossentropy', metrics=['accuracy'])"
      ],
      "metadata": {
        "id": "bp2h5nI8Guuf"
      },
      "execution_count": 99,
      "outputs": []
    },
    {
      "cell_type": "code",
      "source": [
        "model_kedua.fit(train_images,train_labels, epochs=10, batch_size=256)"
      ],
      "metadata": {
        "colab": {
          "base_uri": "https://localhost:8080/"
        },
        "id": "eUrN6xReM1Nf",
        "outputId": "17ea2331-38dc-407b-cae7-32b099ddcdcd"
      },
      "execution_count": 100,
      "outputs": [
        {
          "output_type": "stream",
          "name": "stdout",
          "text": [
            "Epoch 1/10\n",
            "235/235 [==============================] - 7s 26ms/step - loss: 0.7528 - accuracy: 0.7260\n",
            "Epoch 2/10\n",
            "235/235 [==============================] - 5s 23ms/step - loss: 0.4511 - accuracy: 0.8338\n",
            "Epoch 3/10\n",
            "235/235 [==============================] - 5s 21ms/step - loss: 0.3897 - accuracy: 0.8557\n",
            "Epoch 4/10\n",
            "235/235 [==============================] - 6s 27ms/step - loss: 0.3558 - accuracy: 0.8668\n",
            "Epoch 5/10\n",
            "235/235 [==============================] - 5s 21ms/step - loss: 0.3295 - accuracy: 0.8769\n",
            "Epoch 6/10\n",
            "235/235 [==============================] - 6s 25ms/step - loss: 0.3069 - accuracy: 0.8848\n",
            "Epoch 7/10\n",
            "235/235 [==============================] - 6s 23ms/step - loss: 0.2920 - accuracy: 0.8898\n",
            "Epoch 8/10\n",
            "235/235 [==============================] - 5s 21ms/step - loss: 0.2778 - accuracy: 0.8950\n",
            "Epoch 9/10\n",
            "235/235 [==============================] - 6s 27ms/step - loss: 0.2652 - accuracy: 0.9001\n",
            "Epoch 10/10\n",
            "235/235 [==============================] - 5s 21ms/step - loss: 0.2570 - accuracy: 0.9034\n"
          ]
        },
        {
          "output_type": "execute_result",
          "data": {
            "text/plain": [
              "<keras.src.callbacks.History at 0x7f33b3babd90>"
            ]
          },
          "metadata": {},
          "execution_count": 100
        }
      ]
    },
    {
      "cell_type": "code",
      "source": [
        "model_kedua.summary()"
      ],
      "metadata": {
        "colab": {
          "base_uri": "https://localhost:8080/"
        },
        "id": "y2K7HlclPATP",
        "outputId": "012802c3-7683-46ba-b52f-5cb01241cd4f"
      },
      "execution_count": 101,
      "outputs": [
        {
          "output_type": "stream",
          "name": "stdout",
          "text": [
            "Model: \"sequential_8\"\n",
            "_________________________________________________________________\n",
            " Layer (type)                Output Shape              Param #   \n",
            "=================================================================\n",
            " dense_24 (Dense)            (None, 512)               401920    \n",
            "                                                                 \n",
            " dropout_2 (Dropout)         (None, 512)               0         \n",
            "                                                                 \n",
            " dense_25 (Dense)            (None, 256)               131328    \n",
            "                                                                 \n",
            " dropout_3 (Dropout)         (None, 256)               0         \n",
            "                                                                 \n",
            " dense_26 (Dense)            (None, 128)               32896     \n",
            "                                                                 \n",
            " dense_27 (Dense)            (None, 64)                8256      \n",
            "                                                                 \n",
            " dense_28 (Dense)            (None, 32)                2080      \n",
            "                                                                 \n",
            " dense_29 (Dense)            (None, 10)                330       \n",
            "                                                                 \n",
            "=================================================================\n",
            "Total params: 576810 (2.20 MB)\n",
            "Trainable params: 576810 (2.20 MB)\n",
            "Non-trainable params: 0 (0.00 Byte)\n",
            "_________________________________________________________________\n"
          ]
        }
      ]
    },
    {
      "cell_type": "code",
      "source": [
        "prediksi = model_kedua(test_images)\n",
        "prediksi = prediksi.numpy() # =>supaya hasilnya array\n",
        "prediksi_label = np.argmax(prediksi,axis=1)\n",
        "prediksi_betul = prediksi_label == test_labels\n",
        "print(f\"Akurasi hasil data test :{prediksi_betul.mean():.2f}\")\n"
      ],
      "metadata": {
        "colab": {
          "base_uri": "https://localhost:8080/"
        },
        "id": "8Y3r8OkSNvEn",
        "outputId": "dce7b354-3bf4-49a5-b49f-f42e0a2718bb"
      },
      "execution_count": 106,
      "outputs": [
        {
          "output_type": "stream",
          "name": "stdout",
          "text": [
            "Akurasi hasil data test :0.87\n"
          ]
        }
      ]
    },
    {
      "cell_type": "markdown",
      "source": [
        "### => Tujuan ***Dropout*** adalah untuk mencegah terjadinya overfitting"
      ],
      "metadata": {
        "id": "KUOg8O4QQOxK"
      }
    },
    {
      "cell_type": "markdown",
      "source": [
        "##Pretrained Model"
      ],
      "metadata": {
        "id": "jhXpaNwHS-7z"
      }
    },
    {
      "cell_type": "code",
      "source": [
        "model_kedua.save('model_Tia_Agustiani.h5')"
      ],
      "metadata": {
        "id": "jGqlSx_-Qec8"
      },
      "execution_count": 107,
      "outputs": []
    }
  ]
}